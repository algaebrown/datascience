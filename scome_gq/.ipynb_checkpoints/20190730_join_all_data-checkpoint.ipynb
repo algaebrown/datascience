{
 "cells": [
  {
   "cell_type": "code",
   "execution_count": 611,
   "metadata": {},
   "outputs": [],
   "source": [
    "# import Q lookup 式兩份問卷人工對應的表\n",
    "import pandas as pd\n",
    "Q_lookup = pd.read_excel(\"../../Q_lookup.xlsx\")"
   ]
  },
  {
   "cell_type": "code",
   "execution_count": 612,
   "metadata": {},
   "outputs": [
    {
     "data": {
      "text/html": [
       "<div>\n",
       "<style scoped>\n",
       "    .dataframe tbody tr th:only-of-type {\n",
       "        vertical-align: middle;\n",
       "    }\n",
       "\n",
       "    .dataframe tbody tr th {\n",
       "        vertical-align: top;\n",
       "    }\n",
       "\n",
       "    .dataframe thead th {\n",
       "        text-align: right;\n",
       "    }\n",
       "</style>\n",
       "<table border=\"1\" class=\"dataframe\">\n",
       "  <thead>\n",
       "    <tr style=\"text-align: right;\">\n",
       "      <th></th>\n",
       "      <th>rank</th>\n",
       "      <th>99-98</th>\n",
       "      <th>100-101</th>\n",
       "    </tr>\n",
       "  </thead>\n",
       "  <tbody>\n",
       "    <tr>\n",
       "      <th>0</th>\n",
       "      <td>0</td>\n",
       "      <td>NaN</td>\n",
       "      <td>時間戳記</td>\n",
       "    </tr>\n",
       "    <tr>\n",
       "      <th>1</th>\n",
       "      <td>0</td>\n",
       "      <td>請問您的學號？</td>\n",
       "      <td>請問您的學號？(B101100100)</td>\n",
       "    </tr>\n",
       "    <tr>\n",
       "      <th>2</th>\n",
       "      <td>0</td>\n",
       "      <td>Network ID</td>\n",
       "      <td>NaN</td>\n",
       "    </tr>\n",
       "    <tr>\n",
       "      <th>3</th>\n",
       "      <td>1</td>\n",
       "      <td>本系之教育使我有機會參與醫學科學研究</td>\n",
       "      <td>1 整體醫學教育 [本系之教育使我有機會參與醫學科學研究]</td>\n",
       "    </tr>\n",
       "    <tr>\n",
       "      <th>4</th>\n",
       "      <td>1</td>\n",
       "      <td>本系之教育使我學到具醫療專業素養之醫療照護</td>\n",
       "      <td>1 整體醫學教育 [本系之教育使我學到具醫療專業素養之醫療照護]</td>\n",
       "    </tr>\n",
       "  </tbody>\n",
       "</table>\n",
       "</div>"
      ],
      "text/plain": [
       "   rank                  99-98                           100-101\n",
       "0     0                    NaN                              時間戳記\n",
       "1     0                請問您的學號？               請問您的學號？(B101100100)\n",
       "2     0             Network ID                               NaN\n",
       "3     1     本系之教育使我有機會參與醫學科學研究     1 整體醫學教育 [本系之教育使我有機會參與醫學科學研究]\n",
       "4     1  本系之教育使我學到具醫療專業素養之醫療照護  1 整體醫學教育 [本系之教育使我學到具醫療專業素養之醫療照護]"
      ]
     },
     "execution_count": 612,
     "metadata": {},
     "output_type": "execute_result"
    }
   ],
   "source": [
    "# take a look\n",
    "Q_lookup.head()"
   ]
  },
  {
   "cell_type": "code",
   "execution_count": 613,
   "metadata": {},
   "outputs": [],
   "source": [
    "# import questionaire original file\n",
    "tmu_9899 = pd.read_excel('../../TMU_9998.xlsx')\n",
    "tmu_102 = pd.read_excel('../../GQ_102101.xlsx') # diff question\n",
    "\n",
    "# import other school\n",
    "fju_9899 = pd.read_excel('../../FJU_9998.xlsx')\n",
    "mmc_9899 = pd.read_excel('../../MMC_9998.xlsx')\n",
    "kmu_9899 = pd.read_excel('../../KMU_9998.xlsx')\n",
    "\n",
    "# add school tag\n",
    "tmu_9899['school'] = '北醫'\n",
    "tmu_102['school'] = '北醫'\n",
    "fju_9899['school'] = '輔仁'\n",
    "mmc_9899['school'] = '馬偕'\n",
    "kmu_9899['school'] = '高醫'"
   ]
  },
  {
   "cell_type": "code",
   "execution_count": 614,
   "metadata": {},
   "outputs": [
    {
     "name": "stdout",
     "output_type": "stream",
     "text": [
      "學號重複 (377,)\n"
     ]
    }
   ],
   "source": [
    "# hosital tag for TMU\n",
    "\n",
    "# import data from 系辦 (資料已經人工清理過：例如：附醫-->北醫；臺大醫院 --> 台大 以求三屆的標籤相同才能電腦比較)\n",
    "hp101 = pd.read_excel('../../991_981_101_hospital.xlsx', sheet_name = '101')\n",
    "hp99 = pd.read_excel('../../991_981_101_hospital.xlsx', sheet_name = '991')\n",
    "hp98 = pd.read_excel('../../991_981_101_hospital.xlsx', sheet_name = '981') # all upper case\n",
    "\n",
    "# 注意學號大小寫會造成 join 不起來 也移除空白和'\n",
    "tmu_102['請問您的學號？(B101100100)'] = tmu_102['請問您的學號？(B101100100)'].str.upper().str.replace(' ','').str.replace(\"\\'\", '').str.replace(\"\\n\", '')\n",
    "print('學號重複', tmu_102.duplicated(subset= '請問您的學號？(B101100100)').shape)\n",
    "tmu_102.drop_duplicates(subset= '請問您的學號？(B101100100)', keep = 'last', inplace = True) # 有重複填寫的人\n",
    "tmu_9899['請問您的學號？'] = tmu_9899['請問您的學號？'].str.upper().str.upper().str.replace(' ','').str.replace(\"\\'\", '').str.replace(\"\\n\", '')\n",
    "\n",
    "# 醫院表裡的學號也都有空白影響alignment\n",
    "for hp in [hp101, hp99, hp98]:\n",
    "    hp['student_id'] = hp['student_id'].str.replace(' ','').str.replace(\"\\'\", '').str.replace(\"\\n\", '')\n",
    "# tag year\n",
    "hp101['year'] = 101\n",
    "hp98['year'] = 98\n",
    "hp99['year'] = 99\n",
    "\n",
    "# tag hospital\n",
    "new_102 = tmu_102.merge(hp101, left_on = '請問您的學號？(B101100100)', right_on = 'student_id', how = 'left')\n",
    "new_99 = tmu_9899.merge(hp99, left_on ='請問您的學號？', right_on = 'student_id', how = 'inner')\n",
    "new_98 = tmu_9899.merge(hp98, left_on ='請問您的學號？', right_on = 'student_id', how = 'inner')"
   ]
  },
  {
   "cell_type": "code",
   "execution_count": 615,
   "metadata": {},
   "outputs": [],
   "source": [
    "all_9899 = pd.concat([new_99, new_98, fju_9899, mmc_9899, kmu_9899], ignore_index = True, sort = False)"
   ]
  },
  {
   "cell_type": "code",
   "execution_count": 616,
   "metadata": {},
   "outputs": [
    {
     "data": {
      "text/plain": [
       "year  實習醫院\n",
       "98.0  北萬雙     54\n",
       "      奇美       6\n",
       "      林長       6\n",
       "      北榮       5\n",
       "      國泰       5\n",
       "      馬偕       5\n",
       "      台大       4\n",
       "      新光       3\n",
       "      北慈       1\n",
       "      成大       1\n",
       "99.0  雙和      24\n",
       "      萬芳      20\n",
       "      北醫      15\n",
       "      台大       9\n",
       "      國泰       6\n",
       "      奇美       6\n",
       "      馬偕       6\n",
       "      新光       5\n",
       "      北榮       3\n",
       "      高長       3\n",
       "      北慈       2\n",
       "      林長       2\n",
       "Name: 實習醫院, dtype: int64"
      ]
     },
     "execution_count": 616,
     "metadata": {},
     "output_type": "execute_result"
    }
   ],
   "source": [
    "all_9899.groupby(by = 'year')['實習醫院'].value_counts()"
   ]
  },
  {
   "cell_type": "code",
   "execution_count": 617,
   "metadata": {},
   "outputs": [],
   "source": [
    "# 清理 102 資料\n",
    "\n",
    "# for simplicity, import 102 contact to find real 102 因為用入學年份粗分六七年制會很髒(有轉系、有擋修臨床而延後等等)，最後使用102及通訊錄中的學號(包含轉系生)來選出六年制的人是那些\n",
    "contact = pd.read_excel('../../102contacts.xlsx')\n",
    "true_six_year = [x.upper() for x in contact['Student_id']] # lowercase 都改小寫\n",
    "\n",
    "new_102['six_year'] = new_102['請問您的學號？(B101100100)'].isin(true_six_year) # six_year 這個變數儲存的是：這個學號是否出現在 102的通訊錄裡。若 six_year = True 這就是六年制的同學(嗨麻吉)\n",
    "new_102.loc[new_102['請問您的學號？(B101100100)'].isin(true_six_year), 'year'] = 102\n",
    "new_102.loc[new_102['請問您的學號？(B101100100)'].isin(true_six_year), '實習醫院'] = '北萬雙'"
   ]
  },
  {
   "cell_type": "code",
   "execution_count": 618,
   "metadata": {},
   "outputs": [
    {
     "data": {
      "text/plain": [
       "139"
      ]
     },
     "execution_count": 618,
     "metadata": {},
     "output_type": "execute_result"
    }
   ],
   "source": [
    "new_102['six_year'].sum()"
   ]
  },
  {
   "cell_type": "code",
   "execution_count": 619,
   "metadata": {},
   "outputs": [],
   "source": [
    "# 保守估計 100 的人若學號有 B101100 則算成 100\n",
    "no_year = new_102.loc[new_102['year'].isnull(), '請問您的學號？(B101100100)']\n",
    "new_102.loc[no_year.str.contains('B101100').index, 'year'] = 100"
   ]
  },
  {
   "cell_type": "code",
   "execution_count": 620,
   "metadata": {},
   "outputs": [],
   "source": [
    "# 另外是 new_102 這一個問卷的選項把它改成 12345\n",
    "\n",
    "# change scaling to 1,2,3,4,5 (非常不滿意，不滿意，普通，滿意，非常不滿意)\n",
    "# 此份問卷不同的問題有不同的中文表達滿意程度，在這裡我通通把它轉成 1-5 分 (這是非常惱人的設計問卷的方式!)\n",
    "scaling = {'非常不滿意':1,\n",
    "          '不滿意':2,\n",
    "          '普通':3,\n",
    "          '滿意':4,\n",
    "          '非常滿意':5,\n",
    "          '良好':4,\n",
    "          '非常良好':5,\n",
    "          '不佳':2,\n",
    "          '非常不佳':1,\n",
    "          '非常清楚':5,\n",
    "          '非常不清楚':1,\n",
    "          '清楚':4,\n",
    "          '不清楚':2}\n",
    "new_102.iloc[:, 2:-2] = new_102.iloc[:, 2:-2].applymap(lambda x: scaling[x] if x in scaling.keys() else x) # 若問題是用1-5芬可以轉換的就轉換，不能轉的就保留原本的文字(像是：我的第一志願是？精神科﹔則保留\"精神科\")"
   ]
  },
  {
   "cell_type": "code",
   "execution_count": 621,
   "metadata": {},
   "outputs": [
    {
     "data": {
      "text/html": [
       "<div>\n",
       "<style scoped>\n",
       "    .dataframe tbody tr th:only-of-type {\n",
       "        vertical-align: middle;\n",
       "    }\n",
       "\n",
       "    .dataframe tbody tr th {\n",
       "        vertical-align: top;\n",
       "    }\n",
       "\n",
       "    .dataframe thead th {\n",
       "        text-align: right;\n",
       "    }\n",
       "</style>\n",
       "<table border=\"1\" class=\"dataframe\">\n",
       "  <thead>\n",
       "    <tr style=\"text-align: right;\">\n",
       "      <th></th>\n",
       "      <th>rank</th>\n",
       "      <th>99-98</th>\n",
       "      <th>100-101</th>\n",
       "    </tr>\n",
       "  </thead>\n",
       "  <tbody>\n",
       "    <tr>\n",
       "      <th>21</th>\n",
       "      <td>5</td>\n",
       "      <td>本系小組討論課程的內容合宜</td>\n",
       "      <td>2-4: 小組討論課程（ PBL等小組討論課程 ） [內容合宜]</td>\n",
       "    </tr>\n",
       "    <tr>\n",
       "      <th>22</th>\n",
       "      <td>5</td>\n",
       "      <td>本系小組討論課程的份量適中</td>\n",
       "      <td>2-4: 小組討論課程（ PBL等小組討論課程 ） [份量適中]</td>\n",
       "    </tr>\n",
       "    <tr>\n",
       "      <th>23</th>\n",
       "      <td>5</td>\n",
       "      <td>本系小組討論課程有與臨床應用整合</td>\n",
       "      <td>2-4: 小組討論課程（ PBL等小組討論課程 ） [有與臨床應用整合]</td>\n",
       "    </tr>\n",
       "    <tr>\n",
       "      <th>24</th>\n",
       "      <td>5</td>\n",
       "      <td>本系小組討論課程對我很有幫助</td>\n",
       "      <td>2-4: 小組討論課程（ PBL等小組討論課程 ） [對我很有幫助]</td>\n",
       "    </tr>\n",
       "    <tr>\n",
       "      <th>25</th>\n",
       "      <td>5</td>\n",
       "      <td>本系小組討論課程的內容合宜</td>\n",
       "      <td>2-5: 小組討論課程（ PBL等小組討論課程 ） [內容合宜]</td>\n",
       "    </tr>\n",
       "    <tr>\n",
       "      <th>26</th>\n",
       "      <td>5</td>\n",
       "      <td>本系小組討論課程的份量適中</td>\n",
       "      <td>2-5: 小組討論課程（ PBL等小組討論課程 ） [份量適中]</td>\n",
       "    </tr>\n",
       "    <tr>\n",
       "      <th>27</th>\n",
       "      <td>5</td>\n",
       "      <td>本系小組討論課程有與臨床應用整合</td>\n",
       "      <td>2-5: 小組討論課程（ PBL等小組討論課程 ） [有與臨床應用整合]</td>\n",
       "    </tr>\n",
       "    <tr>\n",
       "      <th>28</th>\n",
       "      <td>5</td>\n",
       "      <td>本系小組討論課程對我很有幫助</td>\n",
       "      <td>2-5: 小組討論課程（ PBL等小組討論課程 ） [對我很有幫助]</td>\n",
       "    </tr>\n",
       "  </tbody>\n",
       "</table>\n",
       "</div>"
      ],
      "text/plain": [
       "    rank             99-98                               100-101\n",
       "21     5     本系小組討論課程的內容合宜      2-4: 小組討論課程（ PBL等小組討論課程 ） [內容合宜]\n",
       "22     5     本系小組討論課程的份量適中      2-4: 小組討論課程（ PBL等小組討論課程 ） [份量適中]\n",
       "23     5  本系小組討論課程有與臨床應用整合  2-4: 小組討論課程（ PBL等小組討論課程 ） [有與臨床應用整合]\n",
       "24     5    本系小組討論課程對我很有幫助    2-4: 小組討論課程（ PBL等小組討論課程 ） [對我很有幫助]\n",
       "25     5     本系小組討論課程的內容合宜      2-5: 小組討論課程（ PBL等小組討論課程 ） [內容合宜]\n",
       "26     5     本系小組討論課程的份量適中      2-5: 小組討論課程（ PBL等小組討論課程 ） [份量適中]\n",
       "27     5  本系小組討論課程有與臨床應用整合  2-5: 小組討論課程（ PBL等小組討論課程 ） [有與臨床應用整合]\n",
       "28     5    本系小組討論課程對我很有幫助    2-5: 小組討論課程（ PBL等小組討論課程 ） [對我很有幫助]"
      ]
     },
     "execution_count": 621,
     "metadata": {},
     "output_type": "execute_result"
    }
   ],
   "source": [
    "# 接下來進行最艱鉅的任務：將兩份問題不一樣的問卷對齊 :( 拜託以後用同一份問卷同一個平台收集好不好\n",
    "\n",
    "# 首先，102 這份問卷其實在發出去之後有改過，造成大量 NaN\n",
    "# 因此透過 groupby 對應好的 9899 來顯示出哪些其實是相同但是改過的題目\n",
    "Q_lookup.loc[Q_lookup.duplicated(['99-98'], keep = False)].dropna()"
   ]
  },
  {
   "cell_type": "code",
   "execution_count": 622,
   "metadata": {},
   "outputs": [
    {
     "data": {
      "text/plain": [
       "2-4: 小組討論課程（ PBL等小組討論課程 ） [份量適中]    319\n",
       "2-5: 小組討論課程（ PBL等小組討論課程 ） [份量適中]     36\n",
       "dtype: int64"
      ]
     },
     "execution_count": 622,
     "metadata": {},
     "output_type": "execute_result"
    }
   ],
   "source": [
    "new_102[['2-4: 小組討論課程（ PBL等小組討論課程 ） [份量適中]', '2-5: 小組討論課程（ PBL等小組討論課程 ） [份量適中]']].count()"
   ]
  },
  {
   "cell_type": "code",
   "execution_count": 623,
   "metadata": {},
   "outputs": [
    {
     "data": {
      "text/plain": [
       "2-4: 小組討論課程（ PBL等小組討論課程 ） [內容合宜]    319\n",
       "2-5: 小組討論課程（ PBL等小組討論課程 ） [內容合宜]     36\n",
       "dtype: int64"
      ]
     },
     "execution_count": 623,
     "metadata": {},
     "output_type": "execute_result"
    }
   ],
   "source": [
    "new_102[['2-4: 小組討論課程（ PBL等小組討論課程 ） [內容合宜]', '2-5: 小組討論課程（ PBL等小組討論課程 ） [內容合宜]']].count() #看起來是 2-5 重複了，所以後來被拿掉"
   ]
  },
  {
   "cell_type": "code",
   "execution_count": 624,
   "metadata": {},
   "outputs": [],
   "source": [
    "cols_to_remove = Q_lookup.iloc[25:29]"
   ]
  },
  {
   "cell_type": "code",
   "execution_count": 625,
   "metadata": {},
   "outputs": [
    {
     "data": {
      "text/plain": [
       "(319, 178)"
      ]
     },
     "execution_count": 625,
     "metadata": {},
     "output_type": "execute_result"
    }
   ],
   "source": [
    "new_102.shape # 移除前"
   ]
  },
  {
   "cell_type": "code",
   "execution_count": 626,
   "metadata": {},
   "outputs": [],
   "source": [
    "new_102.drop(columns = cols_to_remove['100-101'], inplace = True)"
   ]
  },
  {
   "cell_type": "code",
   "execution_count": 627,
   "metadata": {},
   "outputs": [
    {
     "data": {
      "text/plain": [
       "(319, 174)"
      ]
     },
     "execution_count": 627,
     "metadata": {},
     "output_type": "execute_result"
    }
   ],
   "source": [
    "new_102.shape # 移除後"
   ]
  },
  {
   "cell_type": "code",
   "execution_count": 628,
   "metadata": {},
   "outputs": [
    {
     "data": {
      "text/plain": [
       "(174, 3)"
      ]
     },
     "execution_count": 628,
     "metadata": {},
     "output_type": "execute_result"
    }
   ],
   "source": [
    "Q_lookup.shape # 移除前"
   ]
  },
  {
   "cell_type": "code",
   "execution_count": 629,
   "metadata": {},
   "outputs": [],
   "source": [
    "# 問卷對應的表格 Qlookup 也要丟掉\n",
    "Q_lookup.drop(index = [25,26,27,28], inplace = True)"
   ]
  },
  {
   "cell_type": "code",
   "execution_count": 630,
   "metadata": {},
   "outputs": [
    {
     "data": {
      "text/plain": [
       "(170, 3)"
      ]
     },
     "execution_count": 630,
     "metadata": {},
     "output_type": "execute_result"
    }
   ],
   "source": [
    "Q_lookup.shape # 移除後"
   ]
  },
  {
   "cell_type": "code",
   "execution_count": 631,
   "metadata": {},
   "outputs": [
    {
     "data": {
      "text/plain": [
       "(254, 126)"
      ]
     },
     "execution_count": 631,
     "metadata": {},
     "output_type": "execute_result"
    }
   ],
   "source": [
    "all_9899.shape # map 以前"
   ]
  },
  {
   "cell_type": "code",
   "execution_count": 632,
   "metadata": {},
   "outputs": [],
   "source": [
    "# 接下來將所有 9899 的問題都改成 102 的\n",
    "new_lookup = Q_lookup.dropna()\n",
    "new_lookup.set_index('99-98', inplace = True)\n",
    "\n",
    "def mapper(x):\n",
    "    if x in new_lookup.index:\n",
    "        return(new_lookup.loc[x, '100-101'])\n",
    "    else:\n",
    "        return(x) # keep original value\n",
    "mapped_9899 = all_9899.rename(columns = mapper)"
   ]
  },
  {
   "cell_type": "code",
   "execution_count": 633,
   "metadata": {},
   "outputs": [
    {
     "data": {
      "text/plain": [
       "(254, 126)"
      ]
     },
     "execution_count": 633,
     "metadata": {},
     "output_type": "execute_result"
    }
   ],
   "source": [
    "mapped_9899.shape # map 以後"
   ]
  },
  {
   "cell_type": "code",
   "execution_count": 634,
   "metadata": {},
   "outputs": [],
   "source": [
    "# 將兩份表格接在一起\n",
    "all_data = pd.concat([mapped_9899, new_102], sort = False)"
   ]
  },
  {
   "cell_type": "code",
   "execution_count": 635,
   "metadata": {},
   "outputs": [
    {
     "data": {
      "text/plain": [
       "(573, 182)"
      ]
     },
     "execution_count": 635,
     "metadata": {},
     "output_type": "execute_result"
    }
   ],
   "source": [
    "all_data.shape"
   ]
  },
  {
   "cell_type": "code",
   "execution_count": 636,
   "metadata": {},
   "outputs": [
    {
     "data": {
      "text/plain": [
       "Index([], dtype='object')"
      ]
     },
     "execution_count": 636,
     "metadata": {},
     "output_type": "execute_result"
    }
   ],
   "source": [
    "all_data.loc[:, all_data.count() == 663].columns"
   ]
  },
  {
   "cell_type": "code",
   "execution_count": 637,
   "metadata": {},
   "outputs": [
    {
     "data": {
      "text/plain": [
       "Index(['#', '請問您的學號？(B101100100)', '1 整體醫學教育 [清楚本系及各學科的教學目標]',\n",
       "       '1 整體醫學教育 [本系之教學目標、教學方法、評分有互相配合]', '1 整體醫學教育 [本系之醫學知識、臨床技能與人文教育並重3 列]',\n",
       "       '1 整體醫學教育 [本系之教育使我學到具醫療專業素養之醫療照護]', '1 整體醫學教育 [本系之教育使我有機會參與醫學科學研究]',\n",
       "       '1 整體醫學教育 [我很滿意本系的醫學教育品質]', '2-1: 課程-通識課程 [必修課外，有足夠的時間可安排修通識課程]',\n",
       "       '2-1: 課程-通識課程 [學分下限適中]',\n",
       "       ...\n",
       "       '3-5: 在臨床實習時，各科安排的夜間實習（含過夜實習）有按照臨床實習原則？ [泌尿科]',\n",
       "       '3-5: 在臨床實習時，各科安排的夜間實習（含過夜實習）有按照臨床實習原則？ [骨科]',\n",
       "       '3-5: 在臨床實習時，各科安排的夜間實習（含過夜實習）有按照臨床實習原則？ [麻醉科]',\n",
       "       '3-5: 在臨床實習時，各科安排的夜間實習（含過夜實習）有按照臨床實習原則？ [放射科]',\n",
       "       '4-1: 在學期間 [學生對於學業、生活與生涯輔導的滿意度]', '4-1: 在學期間 [學生對經濟援助諮詢和服務的滿意度]',\n",
       "       '4-1: 在學期間 [醫學生認為他們有被不當對待經驗（沒有請選非常滿意）]', '4-1: 在學期間 [醫學系對於學校空間使用滿意度]',\n",
       "       '其他專科醫師志願（請填寫：第幾志願/xxx）', 'six_year'],\n",
       "      dtype='object', length=182)"
      ]
     },
     "execution_count": 637,
     "metadata": {},
     "output_type": "execute_result"
    }
   ],
   "source": [
    "all_data.loc[:, all_data.count() < 663].columns"
   ]
  },
  {
   "cell_type": "code",
   "execution_count": 638,
   "metadata": {},
   "outputs": [],
   "source": [
    "all_data.to_excel('../../all_data.xlsx')"
   ]
  },
  {
   "cell_type": "code",
   "execution_count": null,
   "metadata": {},
   "outputs": [],
   "source": []
  }
 ],
 "metadata": {
  "kernelspec": {
   "display_name": "Python 3",
   "language": "python",
   "name": "python3"
  },
  "language_info": {
   "codemirror_mode": {
    "name": "ipython",
    "version": 3
   },
   "file_extension": ".py",
   "mimetype": "text/x-python",
   "name": "python",
   "nbconvert_exporter": "python",
   "pygments_lexer": "ipython3",
   "version": "3.7.3"
  }
 },
 "nbformat": 4,
 "nbformat_minor": 2
}
