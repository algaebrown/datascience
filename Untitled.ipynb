{
 "cells": [
  {
   "cell_type": "code",
   "execution_count": 3,
   "metadata": {
    "collapsed": false
   },
   "outputs": [
    {
     "name": "stdout",
     "output_type": "stream",
     "text": [
      "\n",
      "呆\n",
      "呆呆\n",
      "呆呆呆\n",
      "呆呆呆呆\n",
      "呆呆呆呆呆\n",
      "呆呆呆呆呆呆\n",
      "呆呆呆呆呆呆呆\n",
      "呆呆呆呆呆呆呆呆\n",
      "呆呆呆呆呆呆呆呆呆\n"
     ]
    }
   ],
   "source": [
    "for i in range(10):\n",
    "    print(\"呆\" * i)"
   ]
  },
  {
   "cell_type": "code",
   "execution_count": null,
   "metadata": {
    "collapsed": true
   },
   "outputs": [],
   "source": []
  }
 ],
 "metadata": {
  "kernelspec": {
   "display_name": "Python [Root]",
   "language": "python",
   "name": "Python [Root]"
  },
  "language_info": {
   "codemirror_mode": {
    "name": "ipython",
    "version": 3
   },
   "file_extension": ".py",
   "mimetype": "text/x-python",
   "name": "python",
   "nbconvert_exporter": "python",
   "pygments_lexer": "ipython3",
   "version": "3.5.2"
  }
 },
 "nbformat": 4,
 "nbformat_minor": 0
}
